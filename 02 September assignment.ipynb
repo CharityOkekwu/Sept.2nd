{
 "cells": [
  {
   "cell_type": "markdown",
   "id": "75231fd9",
   "metadata": {},
   "source": [
    "# ASSIGNMENT     03-09-2023"
   ]
  },
  {
   "cell_type": "markdown",
   "id": "86e1919c",
   "metadata": {},
   "source": [
    "# Question 1: Write a program that will determine the grade of students."
   ]
  },
  {
   "cell_type": "code",
   "execution_count": 17,
   "id": "6523cf26",
   "metadata": {},
   "outputs": [
    {
     "name": "stdout",
     "output_type": "stream",
     "text": [
      "Enter your score 67\n",
      "Your grade is {'B'}\n"
     ]
    }
   ],
   "source": [
    "score=float(input(\"Enter your score \"))\n",
    "A=70\n",
    "B=60\n",
    "C=50\n",
    "D=40\n",
    "E=30\n",
    "if score>=A:\n",
    "    grade=\"A\"\n",
    "elif score>=B:\n",
    "    grade=\"B\"\n",
    "elif score>=C:\n",
    "    grade=\"C\"\n",
    "elif score>=D:\n",
    "    grade=\"D\"\n",
    "elif score>=E:\n",
    "    grade=\"E\"\n",
    "else:\n",
    "    grade=\"F\"\n",
    "print(f\"Your grade is\", {grade})\n"
   ]
  },
  {
   "cell_type": "markdown",
   "id": "65c722a8",
   "metadata": {},
   "source": [
    "# Question 2: Write a program that determines if the number is even or odd."
   ]
  },
  {
   "cell_type": "code",
   "execution_count": 18,
   "id": "fce8c94e",
   "metadata": {},
   "outputs": [
    {
     "name": "stdout",
     "output_type": "stream",
     "text": [
      "Enter Number: 45\n",
      "Odd number\n"
     ]
    }
   ],
   "source": [
    "number=float(input(\"Enter Number: \"))\n",
    "if number%2==0:\n",
    "    print(\"Even number\")\n",
    "else:\n",
    "    print(\"Odd number\")"
   ]
  },
  {
   "cell_type": "markdown",
   "id": "941ea4be",
   "metadata": {},
   "source": [
    "# Question 3: Write a program to determine the name of a polygon."
   ]
  },
  {
   "cell_type": "code",
   "execution_count": 29,
   "id": "bf794806",
   "metadata": {},
   "outputs": [
    {
     "name": "stdout",
     "output_type": "stream",
     "text": [
      "Enter number of sides: 5\n",
      "The name of this polygon is a/an, pentagon.\n"
     ]
    }
   ],
   "source": [
    "number_of_sides=float(input(\"Enter number of sides: \"))\n",
    "if number_of_sides<3:\n",
    "    name_of_polygon=\"Not a polygon\"\n",
    "elif number_of_sides==3:\n",
    "    name_of_polygon=\"Triangle\"\n",
    "elif number_of_sides==4:\n",
    "    name_of_polygon=\"Quadrilateral\"\n",
    "elif number_of_sides==5:\n",
    "    name_of_polygon=\"pentagon\"\n",
    "elif number_of_sides==6:\n",
    "    name_of_polygon=\"Hexagon\"\n",
    "elif number_of_sides==7:\n",
    "    name_of_polygon=\"heptagon\"\n",
    "elif number_of_sides==8:\n",
    "    name_of_polygon=\"octagon\"\n",
    "elif number_of_sides==9:\n",
    "    name_of_polygon=\"nonagon\"\n",
    "elif number_of_sides==10:\n",
    "    name_of_polygon=\"Decagon\"\n",
    "else:\n",
    "    name_of_polygon=\"Polygon greater than ten sides\"\n",
    "print(f\"The name of this polygon is a/an, {name_of_polygon}.\")\n",
    "\n"
   ]
  },
  {
   "cell_type": "code",
   "execution_count": null,
   "id": "97e02dbb",
   "metadata": {},
   "outputs": [],
   "source": []
  },
  {
   "cell_type": "code",
   "execution_count": null,
   "id": "a4e21e74",
   "metadata": {},
   "outputs": [],
   "source": []
  }
 ],
 "metadata": {
  "kernelspec": {
   "display_name": "Python 3 (ipykernel)",
   "language": "python",
   "name": "python3"
  },
  "language_info": {
   "codemirror_mode": {
    "name": "ipython",
    "version": 3
   },
   "file_extension": ".py",
   "mimetype": "text/x-python",
   "name": "python",
   "nbconvert_exporter": "python",
   "pygments_lexer": "ipython3",
   "version": "3.10.9"
  }
 },
 "nbformat": 4,
 "nbformat_minor": 5
}
